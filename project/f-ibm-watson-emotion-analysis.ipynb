{
 "cells": [
  {
   "cell_type": "code",
   "execution_count": 1,
   "metadata": {},
   "outputs": [],
   "source": [
    "from ibm_watson import NaturalLanguageUnderstandingV1\n",
    "from ibm_cloud_sdk_core.authenticators import IAMAuthenticator\n",
    "from ibm_watson.natural_language_understanding_v1 import Features, EmotionOptions\n",
    "\n",
    "# Se necessário, quando houver erro na urllib3\n",
    "# pip uninstall urllib3\n",
    "# pip install urllib3==1.26.8\n",
    "\n",
    "import os\n",
    "from dotenv import load_dotenv\n",
    "\n",
    "load_dotenv()\n",
    "\n",
    "ibm_watson_emotion_key = os.getenv(\"IBM_WATSON_EMOTION_KEY\")"
   ]
  },
  {
   "cell_type": "markdown",
   "metadata": {},
   "source": [
    "##### Instância"
   ]
  },
  {
   "cell_type": "code",
   "execution_count": 2,
   "metadata": {},
   "outputs": [],
   "source": [
    "# config da chave API\n",
    "authenticator = IAMAuthenticator(ibm_watson_emotion_key)\n",
    "\n",
    "# Cria uma instância do serviço NLU e define a URL\n",
    "natural_language_understanding = NaturalLanguageUnderstandingV1(\n",
    "    version='2021-08-01',\n",
    "    authenticator=authenticator\n",
    ")\n",
    "natural_language_understanding.set_service_url('https://api.us-east.natural-language-understanding.watson.cloud.ibm.com/instances/186a3145-a256-4653-945a-cb77e4542307')"
   ]
  },
  {
   "cell_type": "markdown",
   "metadata": {},
   "source": [
    "##### Teste do Analisador"
   ]
  },
  {
   "cell_type": "code",
   "execution_count": 3,
   "metadata": {},
   "outputs": [
    {
     "name": "stdout",
     "output_type": "stream",
     "text": [
      "Emoções:\n",
      "sadness: 0.272166\n",
      "joy: 0.372221\n",
      "fear: 0.070994\n",
      "disgust: 0.002589\n",
      "anger: 0.021734\n",
      "maior emoção: joy\n"
     ]
    }
   ],
   "source": [
    "\n",
    "# Texto para analisar\n",
    "text = \"I'm very bored today, but i feel, good things has come!\"\n",
    "\n",
    "# Solicitação de análise de emoção\n",
    "response = natural_language_understanding.analyze(\n",
    "    text=text,\n",
    "    features=Features(emotion=EmotionOptions())\n",
    ").get_result()\n",
    "\n",
    "# Extrair emoções\n",
    "emocoes = response['emotion']['document']['emotion']\n",
    "maior_emocao = max(emocoes, key=emocoes.get)\n",
    "\n",
    "# Imprimir emoções\n",
    "print('Emoções:')\n",
    "for emocao, valor in emocoes.items():\n",
    "    print(f'{emocao}: {valor}')\n",
    "print(f'maior emoção: {maior_emocao}')"
   ]
  },
  {
   "cell_type": "markdown",
   "metadata": {},
   "source": [
    "##### Função"
   ]
  },
  {
   "cell_type": "code",
   "execution_count": 10,
   "metadata": {},
   "outputs": [
    {
     "name": "stdout",
     "output_type": "stream",
     "text": [
      "sadness\n"
     ]
    }
   ],
   "source": [
    "joy_text = \"I'm very bored today, but i feel, good things has come!\"\n",
    "sadness_text = \"I'm very bad today\"\n",
    "\n",
    "def EmotionAnalysis(text):\n",
    "    try:\n",
    "        # Solicitação de análise de emoção\n",
    "        response = natural_language_understanding.analyze(\n",
    "            text=text,\n",
    "            features=Features(emotion=EmotionOptions())\n",
    "        ).get_result()\n",
    "\n",
    "        # Extrair emoções\n",
    "        emocoes = response['emotion']['document']['emotion']\n",
    "        return max(emocoes, key=emocoes.get)\n",
    "    except:\n",
    "        return \"insufficient\"\n",
    "\n",
    "print(EmotionAnalysis(sadness_text))"
   ]
  }
 ],
 "metadata": {
  "kernelspec": {
   "display_name": "Python 3",
   "language": "python",
   "name": "python3"
  },
  "language_info": {
   "codemirror_mode": {
    "name": "ipython",
    "version": 3
   },
   "file_extension": ".py",
   "mimetype": "text/x-python",
   "name": "python",
   "nbconvert_exporter": "python",
   "pygments_lexer": "ipython3",
   "version": "3.11.9"
  }
 },
 "nbformat": 4,
 "nbformat_minor": 2
}
